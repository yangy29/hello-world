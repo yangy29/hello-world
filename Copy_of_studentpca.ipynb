{
  "nbformat": 4,
  "nbformat_minor": 0,
  "metadata": {
    "colab": {
      "name": "Copy of studentpca.ipynb",
      "provenance": [],
      "collapsed_sections": [],
      "include_colab_link": true
    },
    "kernelspec": {
      "display_name": "Python 3",
      "language": "python",
      "name": "python3"
    },
    "language_info": {
      "codemirror_mode": {
        "name": "ipython",
        "version": 3
      },
      "file_extension": ".py",
      "mimetype": "text/x-python",
      "name": "python",
      "nbconvert_exporter": "python",
      "pygments_lexer": "ipython3",
      "version": "3.6.8"
    }
  },
  "cells": [
    {
      "cell_type": "markdown",
      "metadata": {
        "id": "view-in-github",
        "colab_type": "text"
      },
      "source": [
        "<a href=\"https://colab.research.google.com/github/yangy29/hello-world/blob/master/Copy_of_studentpca.ipynb\" target=\"_parent\"><img src=\"https://colab.research.google.com/assets/colab-badge.svg\" alt=\"Open In Colab\"/></a>"
      ]
    },
    {
      "cell_type": "markdown",
      "metadata": {
        "colab_type": "text",
        "id": "0sVgU84dbDxJ"
      },
      "source": [
        "## Homework - Instructions\n",
        "\n",
        "![](https://github.com/rpi-techfundamentals/hm-01-starter/blob/master/notsaved.png?raw=1)\n",
        "\n",
        "**WARNING!!!  If you see this icon on the top of your COLAB sesssion, your work is not saved automatically.**\n",
        "\n",
        "\n",
        "**When you are working on homeworks, make sure that you save often. You may find it easier to save intermident copies in Google drive. If you save your working file in Google drive all changes will be saved as you work. MAKE SURE that your final version is saved to GitHub.** \n",
        "\n",
        "Before you turn this problem in, make sure everything runs as expected. First, restart the kernel (in the menubar, select Kernel → Restart) and then run all cells (in the menubar, select Cell → Run All).  You can speak with others regarding the assignment but all work must be your own. \n",
        "\n",
        "\n",
        "### This is a 30 point assignment graded from answers to questions and automated tests that should be run at the bottom. Be sure to clearly label all of your answers and commit final tests at the end.  "
      ]
    },
    {
      "cell_type": "code",
      "metadata": {
        "colab_type": "code",
        "id": "xsoyqoUWbDxN",
        "colab": {}
      },
      "source": [
        "files = \"https://github.com/rpi-techfundamentals/hm-pca-cluster-starter/raw/master/starter.zip\" \n",
        "!rm -rf * && pip install git+https://github.com/data-8/Gofer-Grader && wget $files && unzip -o starter.zip\n",
        "import os\n",
        "files = \"https://www.dropbox.com/s/nnkxhjso04f5as7/pca.zip\"\n",
        "!rm -rf * && pip install git+https://github.com/data-8/Gofer-Grader && wget $files && unzip -o pca.zip"
      ],
      "execution_count": 0,
      "outputs": []
    },
    {
      "cell_type": "code",
      "metadata": {
        "colab_type": "code",
        "id": "0W1-ZeqRbDxX",
        "colab": {}
      },
      "source": [
        "#Run this. It initiates autograding. \n",
        "from client.api.notebook import Notebook\n",
        "ok = Notebook('lab.ok')\n",
        "_ = ok.auth(inline=True)"
      ],
      "execution_count": 0,
      "outputs": []
    },
    {
      "cell_type": "markdown",
      "metadata": {
        "colab_type": "text",
        "id": "3Y19n7hxbDxf"
      },
      "source": [
        "### Load Data\n",
        "Here we have 2 files. One we will use for PCA and the other for cluster analysis. \n"
      ]
    },
    {
      "cell_type": "code",
      "metadata": {
        "colab_type": "code",
        "id": "cQAhByH7bDxh",
        "colab": {}
      },
      "source": [
        "# Load the data here\n",
        "import pandas as pd\n",
        "df_cluster  = pd.read_csv(\"cluster.csv\")\n",
        "df_pca  = pd.read_csv(\"pca.csv\")"
      ],
      "execution_count": 0,
      "outputs": []
    },
    {
      "cell_type": "markdown",
      "metadata": {
        "id": "oDJKUE3z3htG",
        "colab_type": "text"
      },
      "source": [
        "## EDA\n",
        "\n",
        "Do some simple exploritory analysis on the data so that you understand the structure of the data. "
      ]
    },
    {
      "cell_type": "code",
      "metadata": {
        "id": "IQgvTaJY3gR_",
        "colab_type": "code",
        "colab": {
          "base_uri": "https://localhost:8080/",
          "height": 329
        },
        "outputId": "7bc16fc6-5673-442e-8fc3-577abfcea76b"
      },
      "source": [
        "print(df_cluster.head())\n",
        "print(len(df_cluster))\n",
        "print(df_pca.head())\n",
        "print(len(df_pca))\n"
      ],
      "execution_count": 70,
      "outputs": [
        {
          "output_type": "stream",
          "text": [
            "   cad0  cad1  cad2  cad3  cad4  cad5  cad6  ...  dv4  dv5  dv6  dv7  dv8  dv9    y\n",
            "0     1     1     0     0     1     0     1  ...    1    0    1    0    0    1  454\n",
            "1     1     1     0     1     1     0     0  ...    1    0    1    0    0    1  454\n",
            "2     1     1     0     0     1     0     0  ...    1    1    1    0    1    0  152\n",
            "3     1     1     0     1     1     0     1  ...    1    0    1    0    1    1 -142\n",
            "4     1     1     0     0     1     0     0  ...    0    1    1    1    0    0 -227\n",
            "\n",
            "[5 rows x 21 columns]\n",
            "10000\n",
            "   col0  col1  col2  col3  col4  col5  ...  gen25  gen26  gen27  gen28  gen29   y\n",
            "0     1     1     1     1     1     1  ...      1      1      1      1      1  17\n",
            "1     2     4     4     4     4     4  ...      1      1      1      1      1  23\n",
            "2     1     1     1     1     1     1  ...      4      2      3      1      4  11\n",
            "3     4     4     4     4     4     4  ...      4      4      4      4      4  11\n",
            "4     4     4     4     4     4     4  ...      1      2      1      1      1  29\n",
            "\n",
            "[5 rows x 151 columns]\n",
            "10000\n"
          ],
          "name": "stdout"
        }
      ]
    },
    {
      "cell_type": "markdown",
      "metadata": {
        "colab_type": "text",
        "id": "8tct7SvxbDxk"
      },
      "source": [
        "### PCA Data Baseline Regression.\n",
        "On the PCA data, perform a 50/50 train test split with `random state` equal to 99. Predict `y` with all variables using regression analysis. Calculate the r2 for train and assign to `pca1_r2_train` and calculate the r2 for test and assign to `pca1_r2_test`. \n"
      ]
    },
    {
      "cell_type": "code",
      "metadata": {
        "id": "DOFKMr2oJ6Hq",
        "colab_type": "code",
        "colab": {
          "base_uri": "https://localhost:8080/",
          "height": 52
        },
        "outputId": "5ddcc6a6-2ba5-4f24-88cf-0da32e2b469c"
      },
      "source": [
        "from sklearn.model_selection import train_test_split\n",
        "from sklearn.linear_model import LinearRegression\n",
        "X= df_pca.iloc[:,:150]\n",
        "y= df_pca.iloc[:,150]\n",
        "train_X, test_X, train_y,test_y = train_test_split(X, y,test_size=0.5, random_state=99)\n",
        "reg = LinearRegression().fit(train_X, train_y)\n",
        "train_y_pred = reg.predict(train_X)\n",
        "pca1_r2_train = reg.score(train_X, train_y)\n",
        "pca1_r2_test = reg.score(test_X, test_y)\n",
        "print(pca1_r2_train)\n",
        "print(pca1_r2_test)"
      ],
      "execution_count": 71,
      "outputs": [
        {
          "output_type": "stream",
          "text": [
            "0.997313308708175\n",
            "0.9972599623679496\n"
          ],
          "name": "stdout"
        }
      ]
    },
    {
      "cell_type": "markdown",
      "metadata": {
        "id": "e5KGKSWaFeQl",
        "colab_type": "text"
      },
      "source": [
        "### PCA Analysis\n",
        "\n",
        "So you should find that the overall r2 is quite high, but we have a really complex model with 150 predictors. Run PCA with 4, 5, and 6 components. For example, running with 4 components means setting `n_components=4`. \n",
        "\n",
        "* Check out the variance explained from each of the numbers of principal components. When you find taht increasing the number of components only increases the variance explained by a small amount.  * \n",
        "\n",
        "\n",
        "\n"
      ]
    },
    {
      "cell_type": "code",
      "metadata": {
        "id": "49Hth9V4J7vY",
        "colab_type": "code",
        "colab": {
          "base_uri": "https://localhost:8080/",
          "height": 69
        },
        "outputId": "401881d3-4df6-4618-c7f4-e1c51165d858"
      },
      "source": [
        "from sklearn import metrics\n",
        "from sklearn.decomposition import PCA\n",
        "\n",
        "pca = PCA(n_components =4 )\n",
        "\n",
        "X_pca = pca.fit_transform(X)\n",
        "train_X, test_X, train_y,test_y = train_test_split(X_pca, y,test_size=0.5, random_state=99)\n",
        "\n",
        "reg = LinearRegression().fit(train_X, train_y)\n",
        "train_y_pred = reg.predict(train_X)\n",
        "pca1_r2_train_4 = reg.score(train_X, train_y)\n",
        "pca1_r2_test_4 = reg.score(test_X, test_y)\n",
        "print(\"PCA explained variance ratio when K=4:\", pca.explained_variance_ratio_)\n",
        "\n",
        "#-------------------------------\n",
        "pca = PCA(n_components =5 )\n",
        "\n",
        "X_pca = pca.fit_transform(X)\n",
        "train_X, test_X, train_y,test_y = train_test_split(X_pca, y,test_size=0.5, random_state=99)\n",
        "\n",
        "reg = LinearRegression().fit(train_X, train_y)\n",
        "train_y_pred = reg.predict(train_X)\n",
        "pca1_r2_train_5 = reg.score(train_X, train_y)\n",
        "pca1_r2_test_5 = reg.score(test_X, test_y)\n",
        "print(\"PCA explained variance ratio when K=5:\", pca.explained_variance_ratio_)\n",
        "\n",
        "#-------------------------------\n",
        "pca = PCA(n_components =6 )\n",
        "\n",
        "X_pca = pca.fit_transform(X)\n",
        "train_X, test_X, train_y,test_y = train_test_split(X_pca, y,test_size=0.5, random_state=99)\n",
        "\n",
        "reg = LinearRegression().fit(train_X, train_y)\n",
        "train_y_pred = reg.predict(train_X)\n",
        "pca1_r2_train_6 = reg.score(train_X, train_y)\n",
        "pca1_r2_test_6 = reg.score(test_X, test_y)\n",
        "print(\"PCA explained variance ratio when K=6:\", pca.explained_variance_ratio_)"
      ],
      "execution_count": 12,
      "outputs": [
        {
          "output_type": "stream",
          "text": [
            "PCA explained variance ratio when K=4: [0.14512834 0.14257275 0.1420574  0.13901251]\n",
            "PCA explained variance ratio when K=5: [0.14512834 0.14257275 0.1420574  0.13901251 0.13670123]\n",
            "PCA explained variance ratio when K=6: [0.14512834 0.14257275 0.1420574  0.13901251 0.13670123 0.00248893]\n"
          ],
          "name": "stdout"
        }
      ]
    },
    {
      "cell_type": "markdown",
      "metadata": {
        "id": "3a7xYdhuFeQq",
        "colab_type": "text"
      },
      "source": [
        "After experimenting with 4, 5, and 6 components, explain why 5 is the correct number of components."
      ]
    },
    {
      "cell_type": "code",
      "metadata": {
        "id": "2c63bcZ3FeQq",
        "colab_type": "code",
        "colab": {}
      },
      "source": [
        "man1=\"\"\"\n",
        "5 components has the most efficient explaining of all the data, considering the components number and the percentage the data being explained.\n",
        "\"\"\""
      ],
      "execution_count": 0,
      "outputs": []
    },
    {
      "cell_type": "markdown",
      "metadata": {
        "id": "XovzAC3fFeQt",
        "colab_type": "text"
      },
      "source": [
        "Using just the 5 PCA components as X, perform a 50/50 train test split with `random state` equal to 99. Predict `y` with all variables using regression analysis. Calculate the r2 for train and assign to `pca2_r2_train` and calculate the r2 for test and assign to `pca2_r2_test`. "
      ]
    },
    {
      "cell_type": "code",
      "metadata": {
        "id": "nfnMb6FTFeQt",
        "colab_type": "code",
        "colab": {
          "base_uri": "https://localhost:8080/",
          "height": 52
        },
        "outputId": "d6ab8e3d-f8ea-4e34-d3f1-78edabba7069"
      },
      "source": [
        "pca = PCA(n_components =5 )\n",
        "\n",
        "X_pca = pca.fit_transform(X)\n",
        "train_X, test_X, train_y,test_y = train_test_split(X_pca, y,test_size=0.5, random_state=99)\n",
        "\n",
        "reg = LinearRegression().fit(train_X, train_y)\n",
        "train_y_pred = reg.predict(train_X)\n",
        "pca2_r2_train = reg.score(train_X, train_y)\n",
        "pca2_r2_test = reg.score(test_X, test_y)\n",
        "print(\"pca2_r2_train:\", pca2_r2_train)\n",
        "print(\"pca2_r2_test:\", pca2_r2_test)"
      ],
      "execution_count": 73,
      "outputs": [
        {
          "output_type": "stream",
          "text": [
            "pca2_r2_train: 0.704883682660657\n",
            "pca2_r2_test: 0.7006963138514948\n"
          ],
          "name": "stdout"
        }
      ]
    },
    {
      "cell_type": "markdown",
      "metadata": {
        "id": "CDofK8rqJ7DD",
        "colab_type": "text"
      },
      "source": [
        "## Challenge Problem: Feature Selection.  \n",
        "While we obtained a decent R2 with PCA, it wasn't as good as had with the origional data.  Rather than dimensionality reduction using principal components, try to use feature selection to get 4 components that explain >99% of the variance. \n",
        "\n",
        "List those features here. "
      ]
    },
    {
      "cell_type": "code",
      "metadata": {
        "id": "RwaNWvlTJ6QI",
        "colab_type": "code",
        "colab": {
          "base_uri": "https://localhost:8080/",
          "height": 87
        },
        "outputId": "969831cf-9894-4fc8-e590-0146639bd94a"
      },
      "source": [
        "from sklearn.feature_selection import SelectKBest\n",
        "from sklearn.feature_selection import chi2\n",
        "god = SelectKBest(chi2, k=5)\n",
        "X_new = god.fit_transform(X, y)\n",
        "print(\"X.shape:\", X.shape)\n",
        "print(\"X_new.shape:\", X_new.shape)\n",
        "\n",
        "train_X, test_X, train_y,test_y = train_test_split(X_new, y,test_size=0.5, random_state=99)\n",
        "\n",
        "reg = LinearRegression().fit(train_X, train_y)\n",
        "train_y_pred = reg.predict(train_X)\n",
        "pca2_r2_train_4 = reg.score(train_X, train_y)\n",
        "pca2_r2_test_4 = reg.score(test_X, test_y)\n",
        "print(\"Feature Selection R2 for train data:\", pca2_r2_train_4)\n",
        "print(\"Feature Selection R2 for test data:\", pca2_r2_test_4)\n"
      ],
      "execution_count": 38,
      "outputs": [
        {
          "output_type": "stream",
          "text": [
            "X.shape: (10000, 150)\n",
            "X_new.shape: (10000, 5)\n",
            "Feature Selection R2 for train data: 0.9972484077335131\n",
            "Feature Selection R2 for test data: 0.9973117622456917\n"
          ],
          "name": "stdout"
        }
      ]
    },
    {
      "cell_type": "markdown",
      "metadata": {
        "id": "BK5KOYt6FeQx",
        "colab_type": "text"
      },
      "source": [
        "### Cluster Data Baseline Regression\n",
        " On the Cluster data, perform a 50/50 train test split with `random state` equal to 99. Predict `y` with all variables using regression analysis. Calculate the r2 for train and assign to `cluster1_r2_train` and calculate the r2 for test and assign to `cluster1_r2_test`. "
      ]
    },
    {
      "cell_type": "code",
      "metadata": {
        "id": "7MAnnwonKQVc",
        "colab_type": "code",
        "colab": {
          "base_uri": "https://localhost:8080/",
          "height": 52
        },
        "outputId": "5cea6fff-082b-49cd-b1fd-2265dfd45b11"
      },
      "source": [
        "X= df_cluster.iloc[:,:20]\n",
        "y= df_cluster.iloc[:,20]\n",
        "train_X, test_X, train_y,test_y = train_test_split(X, y,test_size=0.5, random_state=99)\n",
        "\n",
        "reg = LinearRegression().fit(train_X, train_y)\n",
        "train_y_pred = reg.predict(train_X)\n",
        "cluster1_r2_train = reg.score(train_X, train_y)\n",
        "cluster1_r2_test = reg.score(test_X, test_y)\n",
        "print(\"cluster1_r2_train:\", cluster1_r2_train)\n",
        "print(\"cluster1_r2_test:\", cluster1_r2_test)"
      ],
      "execution_count": 74,
      "outputs": [
        {
          "output_type": "stream",
          "text": [
            "cluster1_r2_train: 0.4562355384721382\n",
            "cluster1_r2_test: 0.47293356734863634\n"
          ],
          "name": "stdout"
        }
      ]
    },
    {
      "cell_type": "markdown",
      "metadata": {
        "id": "Qf5WFv75FeQ4",
        "colab_type": "text"
      },
      "source": [
        "### KMeans Cluster Analysis\n",
        "\n",
        "Next perform a cluster analysis using ONLY variables that start with `cad0`-`cad9` and specify 6 clusters.  Set random_state to `99` for KMEANS algorithm. Add the variable `df_cluster['cluster']` to the origional dataframe to indicate the cluster membership. \n"
      ]
    },
    {
      "cell_type": "code",
      "metadata": {
        "id": "2a87N4LaFeQ7",
        "colab_type": "code",
        "colab": {}
      },
      "source": [
        "from sklearn.cluster import KMeans\n",
        "X= df_cluster.iloc[:,:10]\n",
        "y= df_cluster.iloc[:,20]\n",
        "#train_X, test_X, train_y,test_y = train_test_split(X, y,test_size=0.5, random_state=99)\n",
        "\n",
        "kmeans = KMeans(n_clusters=6, random_state=99).fit(X)\n",
        "df_cluster[\"cluster\"] = kmeans.labels_"
      ],
      "execution_count": 0,
      "outputs": []
    },
    {
      "cell_type": "markdown",
      "metadata": {
        "id": "1CDVE_XyFeQ8",
        "colab_type": "text"
      },
      "source": [
        "### Clusters Continued\n",
        "\n",
        "Then select only rows from df_cluster which you have assigned to cluster 1.  For only cluster 1 predict `y` with all variables using regression analysis. Calculate the r2 for train and assign to `cluster2_r2_train` and calculate the r2 for test and assign to `cluster2_r2_test`. Like before set random_state to `99` for the train test split. "
      ]
    },
    {
      "cell_type": "code",
      "metadata": {
        "id": "1Bwi_kuFFeQ9",
        "colab_type": "code",
        "colab": {
          "base_uri": "https://localhost:8080/",
          "height": 52
        },
        "outputId": "be39eb81-986b-4247-be22-9fe7e3d2862a"
      },
      "source": [
        "df = df_cluster[df_cluster.cluster == 1 ]\n",
        "X= df.iloc[:,:20]\n",
        "y= df.iloc[:,20]\n",
        "train_X, test_X, train_y,test_y = train_test_split(X, y,test_size=0.5, random_state=99)\n",
        "\n",
        "reg = LinearRegression().fit(train_X, train_y)\n",
        "train_y_pred = reg.predict(train_X)\n",
        "cluster2_r2_train = reg.score(train_X, train_y)\n",
        "cluster2_r2_test = reg.score(test_X, test_y)\n",
        "print(\"cluster2_r2_train:\", cluster2_r2_train)\n",
        "print(\"cluster2_r2_test:\", cluster2_r2_test)\n"
      ],
      "execution_count": 76,
      "outputs": [
        {
          "output_type": "stream",
          "text": [
            "cluster2_r2_train: 0.6459709875932009\n",
            "cluster2_r2_test: 0.6534232293097941\n"
          ],
          "name": "stdout"
        }
      ]
    },
    {
      "cell_type": "code",
      "metadata": {
        "id": "JnkZSytV9HMy",
        "colab_type": "code",
        "colab": {
          "base_uri": "https://localhost:8080/",
          "height": 210
        },
        "outputId": "b265f4cf-376f-4954-fff7-4bf7824f4c5d"
      },
      "source": [
        "from client.api.notebook import Notebook\n",
        "ok = Notebook('lab.ok')\n",
        "_ = ok.auth(inline=True)\n",
        "results= {q[:-3]:ok.grade(q[:-3]) for q in os.listdir(\"tests\") if q.startswith('q')}"
      ],
      "execution_count": 77,
      "outputs": [
        {
          "output_type": "display_data",
          "data": {
            "text/html": [
              "\n",
              "    \n",
              "    \n",
              "        <p>All tests passed!</p>\n",
              "    \n",
              "    "
            ],
            "text/plain": [
              "<gofer.ok.OKTestsResult at 0x7f6ffb7364a8>"
            ]
          },
          "metadata": {
            "tags": []
          }
        },
        {
          "output_type": "display_data",
          "data": {
            "text/html": [
              "\n",
              "    \n",
              "    \n",
              "        <p>All tests passed!</p>\n",
              "    \n",
              "    "
            ],
            "text/plain": [
              "<gofer.ok.OKTestsResult at 0x7f70136d4a90>"
            ]
          },
          "metadata": {
            "tags": []
          }
        },
        {
          "output_type": "display_data",
          "data": {
            "text/html": [
              "\n",
              "    \n",
              "    \n",
              "        <p>All tests passed!</p>\n",
              "    \n",
              "    "
            ],
            "text/plain": [
              "<gofer.ok.OKTestsResult at 0x7f70136d4940>"
            ]
          },
          "metadata": {
            "tags": []
          }
        },
        {
          "output_type": "display_data",
          "data": {
            "text/html": [
              "\n",
              "    \n",
              "    \n",
              "        <p>All tests passed!</p>\n",
              "    \n",
              "    "
            ],
            "text/plain": [
              "<gofer.ok.OKTestsResult at 0x7f70136d4780>"
            ]
          },
          "metadata": {
            "tags": []
          }
        },
        {
          "output_type": "display_data",
          "data": {
            "text/html": [
              "\n",
              "    \n",
              "    \n",
              "        <p>All tests passed!</p>\n",
              "    \n",
              "    "
            ],
            "text/plain": [
              "<gofer.ok.OKTestsResult at 0x7f70136d4908>"
            ]
          },
          "metadata": {
            "tags": []
          }
        },
        {
          "output_type": "display_data",
          "data": {
            "text/html": [
              "\n",
              "    \n",
              "    \n",
              "        <p>All tests passed!</p>\n",
              "    \n",
              "    "
            ],
            "text/plain": [
              "<gofer.ok.OKTestsResult at 0x7f70136d4240>"
            ]
          },
          "metadata": {
            "tags": []
          }
        },
        {
          "output_type": "display_data",
          "data": {
            "text/html": [
              "\n",
              "    \n",
              "    \n",
              "        <p>All tests passed!</p>\n",
              "    \n",
              "    "
            ],
            "text/plain": [
              "<gofer.ok.OKTestsResult at 0x7f70136d4630>"
            ]
          },
          "metadata": {
            "tags": []
          }
        },
        {
          "output_type": "display_data",
          "data": {
            "text/html": [
              "\n",
              "    \n",
              "    \n",
              "        <p>All tests passed!</p>\n",
              "    \n",
              "    "
            ],
            "text/plain": [
              "<gofer.ok.OKTestsResult at 0x7f70136d4b00>"
            ]
          },
          "metadata": {
            "tags": []
          }
        }
      ]
    }
  ]
}